{
 "cells": [
  {
   "cell_type": "markdown",
   "id": "47c94794-d568-4de8-a854-30fc0d346c37",
   "metadata": {},
   "source": [
    "# IMAGE COLOR CLASSIFIER"
   ]
  },
  {
   "cell_type": "code",
   "execution_count": 29,
   "id": "99988afa-e5a3-4da7-9b40-ff05d598eb7c",
   "metadata": {},
   "outputs": [],
   "source": [
    "import tkinter as tk \n",
    "from tkinter import filedialog\n",
    "from tkinter import messagebox\n",
    "import pyperclip\n",
    "from PIL import Image, ImageTk\n",
    "import numpy as np\n",
    "from sklearn.cluster import KMeans\n",
    "import warnings\n",
    "warnings.filterwarnings(\"ignore\")"
   ]
  },
  {
   "cell_type": "markdown",
   "id": "b1df74c0-9bfc-4c71-9e04-8d667d9ed38f",
   "metadata": {},
   "source": [
    "# GUI setup"
   ]
  },
  {
   "cell_type": "code",
   "execution_count": 32,
   "id": "aaa0a89a-54c0-48cd-a203-3792f450a14d",
   "metadata": {},
   "outputs": [],
   "source": [
    "root = tk.Tk()\n",
    "root.title(\"Image Color Classifier\")\n",
    "root.geometry(\"450x450\")\n",
    "root.config(bg=\"light pink\")"
   ]
  },
  {
   "cell_type": "markdown",
   "id": "4860eadb-6c7d-4f1b-aa03-66fc4553abf3",
   "metadata": {},
   "source": [
    "# Create Menu Bar"
   ]
  },
  {
   "cell_type": "code",
   "execution_count": 34,
   "id": "e42ac929-0d67-4d3d-a4ca-c74c1dfe67d0",
   "metadata": {},
   "outputs": [],
   "source": [
    "menu_bar = tk.Menu(root)\n",
    "root.config(menu=menu_bar)"
   ]
  },
  {
   "cell_type": "markdown",
   "id": "1fbf3a0b-12c4-4788-91d3-b0c4ace7c29d",
   "metadata": {},
   "source": [
    "# Global variable to store the dominant color"
   ]
  },
  {
   "cell_type": "code",
   "execution_count": 37,
   "id": "8843d898-c101-4173-ac76-b2778eeb1510",
   "metadata": {},
   "outputs": [],
   "source": [
    "dominant_color = None \n",
    "def set_background_color(hex_color):\n",
    "    root.config(bg=hex_color)"
   ]
  },
  {
   "cell_type": "markdown",
   "id": "25fb0d6e-25e5-4985-a327-eaf8d4cea2d9",
   "metadata": {},
   "source": [
    "# File Menu"
   ]
  },
  {
   "cell_type": "code",
   "execution_count": 41,
   "id": "0596558b-c2a0-4147-8148-bd0cbc4d4a5b",
   "metadata": {},
   "outputs": [],
   "source": [
    "file_menu = tk.Menu(menu_bar, tearoff=0)\n",
    "menu_bar.add_cascade(label=\"File\", menu=file_menu)\n",
    "def show_project_info():\n",
    "    info_window = tk.Toplevel(root)\n",
    "    info_window.title(\"Project Information\")\n",
    "    info_window.geometry(\"400x300\")\n",
    "    info_window.config(bg=\"lavender blush\")\n",
    "\n",
    "    title = tk.Label(info_window, text=\"🎨 Image Color Classifier\", font=(\"Arial\", 14, \"bold\"), bg=\"lavender blush\")\n",
    "    title.pack(pady=10)\n",
    "\n",
    "    description = (\n",
    "        \"This application allows users to upload an image,\\n\"\n",
    "        \"analyze its dominant color using KMeans clustering,\\n\"\n",
    "        \"and classify the color into basic categories.\\n\\n\"\n",
    "        \"🔍 Features:\\n\"\n",
    "        \"• Image Upload\\n\"\n",
    "        \"• Dominant Color Detection\\n\"\n",
    "        \"• Simple Color Classification\\n\"\n",
    "        \"• User-Friendly UI\\n\\n\"\n",
    "        \"• Then choose edit and refresh to Refresh the page\\n\\n\"\n",
    "        \"🛠 Built with: Tkinter, PIL, NumPy, Scikit-learn\"\n",
    "    )\n",
    "\n",
    "    info_label = tk.Label(info_window, text=description, justify=\"left\", font=(\"Arial\", 10), bg=\"lavender blush\")\n",
    "    info_label.pack(pady=5, padx=10)\n",
    "\n",
    "file_menu.add_command(label=\"About\", command=show_project_info)"
   ]
  },
  {
   "cell_type": "markdown",
   "id": "b009e37a-c235-4ac5-84a6-fafa5d69fa12",
   "metadata": {},
   "source": [
    "# Edit Menu"
   ]
  },
  {
   "cell_type": "code",
   "execution_count": 44,
   "id": "c0e00bfc-bad6-4296-8bf6-a7232e71d01d",
   "metadata": {},
   "outputs": [],
   "source": [
    "edit_menu = tk.Menu(menu_bar, tearoff=0)\n",
    "menu_bar.add_cascade(label=\"Edit\", menu=edit_menu)\n",
    "def refresh_app():\n",
    "    image_label.config(image='')\n",
    "    image_label.image = None\n",
    "    color_label.config(text=\"Color: None\", fg=\"black\")\n",
    "    color_box.config(bg=\"white\", text=\"\")\n",
    "    animate_color_box()  # reset width animation\n",
    "    \n",
    "edit_menu.add_command(label=\"Refresh\", command=refresh_app)\n",
    "\n"
   ]
  },
  {
   "cell_type": "markdown",
   "id": "f80e5702-0247-4615-93e3-105992787969",
   "metadata": {},
   "source": [
    "# Function for classify color"
   ]
  },
  {
   "cell_type": "code",
   "execution_count": 47,
   "id": "d6d14489-c3df-45aa-9ee3-b94e9c9a7b20",
   "metadata": {},
   "outputs": [],
   "source": [
    "def classify_color(rgb):\n",
    "    r, g, b = rgb\n",
    "    if r < 50 and g < 50 and b < 50:\n",
    "        return \"Black\"\n",
    "    elif r > 200 and g > 200 and b > 200:\n",
    "        return \"White\"\n",
    "    elif abs(r - g) < 10 and abs(r - b) < 10 and abs(g - b) < 10:\n",
    "        return \"Black and White\"\n",
    "    elif r > 200 and g > 180 and b < 100:\n",
    "        return \"Yellow\"\n",
    "    elif r > g and r > b:\n",
    "        return \"Red\"\n",
    "    elif g > r and g > b:\n",
    "        return \"Green\"\n",
    "    elif b > r and b > g:\n",
    "        return \"Blue\"\n",
    "    else:\n",
    "        return \"Unknown\""
   ]
  },
  {
   "cell_type": "markdown",
   "id": "a3dfab93-887a-4619-85ce-e7dc0c7c7fc2",
   "metadata": {},
   "source": [
    "# Get dominant color using KMeans"
   ]
  },
  {
   "cell_type": "code",
   "execution_count": 50,
   "id": "5a424cce-4092-46fa-beb6-fe4027bc4ed6",
   "metadata": {},
   "outputs": [],
   "source": [
    "def get_dominant_color(image, k=1):\n",
    "    image = image.resize((100, 100))\n",
    "    img_array = np.array(image)\n",
    "    img_array = img_array.reshape((-1, 3))\n",
    "    kmeans = KMeans(n_clusters=k, n_init=10)\n",
    "    kmeans.fit(img_array)\n",
    "    dominant = kmeans.cluster_centers_[0].astype(int)\n",
    "    return tuple(dominant)"
   ]
  },
  {
   "cell_type": "markdown",
   "id": "be4de777-d465-4e9b-ae56-e252c7bef2b8",
   "metadata": {},
   "source": [
    "# Upload and Process Image"
   ]
  },
  {
   "cell_type": "code",
   "execution_count": 53,
   "id": "16081701-6e38-40c6-93ff-b7293d6b5163",
   "metadata": {},
   "outputs": [],
   "source": [
    "def upload_image():\n",
    "    global dominant_color  # Ensure dominant_color is accessible here\n",
    "    file_path = filedialog.askopenfilename(filetypes=[(\"Image files\", \"*.jpg *.jpeg *.png *.gif\")])\n",
    "    if file_path:\n",
    "        img = Image.open(file_path)\n",
    "        resized_img = img.resize((300, 200))\n",
    "        tk_img = ImageTk.PhotoImage(resized_img)\n",
    "\n",
    "        # Show image\n",
    "        image_label.config(image=tk_img)\n",
    "        image_label.image = tk_img\n",
    "\n",
    "        # Get dominant color\n",
    "        dominant_color = get_dominant_color(img)\n",
    "        hex_color = f'#{dominant_color[0]:02x}{dominant_color[1]:02x}{dominant_color[2]:02x}'\n",
    "        color_box.config(bg=hex_color)\n",
    "\n",
    "        # Classify the color name\n",
    "        color_name = classify_color(dominant_color)\n",
    "        color_label.config(text=f\"Color: {color_name}\\nRGB: {dominant_color}\\nHEX: {hex_color}\")\n",
    "\n",
    "        set_background_color(hex_color)\n",
    "\n",
    "\n",
    "# Function to copy RGB to clipboard\n",
    "def copy_rgb():\n",
    "    global dominant_color  # Ensure the dominant color is accessible\n",
    "    if dominant_color is not None:\n",
    "        rgb_value = str(dominant_color)  # Use the dominant color variable\n",
    "        pyperclip.copy(rgb_value)\n",
    "        messagebox.showinfo(\"Copied\", f\"RGB: {rgb_value} copied to clipboard!\")\n",
    "    else:\n",
    "        messagebox.showwarning(\"No Color\", \"No color detected. Please upload an image first.\")\n",
    "\n",
    "# Function to copy HEX to clipboard\n",
    "def copy_hex():\n",
    "    global dominant_color  # Ensure the dominant color is accessible\n",
    "    if dominant_color is not None:\n",
    "        hex_value = f'#{dominant_color[0]:02x}{dominant_color[1]:02x}{dominant_color[2]:02x}'\n",
    "        pyperclip.copy(hex_value)\n",
    "        messagebox.showinfo(\"Copied\", f\"HEX: {hex_value} copied to clipboard!\")\n",
    "    else:\n",
    "        messagebox.showwarning(\"No Color\", \"No color detected. Please upload an image first.\")\n",
    "\n",
    "\n",
    "\n",
    "# Main frame for UI components\n",
    "main_frame = tk.Frame(root, bg=\"Lavender\")\n",
    "main_frame.pack(expand=True)\n",
    "\n",
    "\n",
    "# Upload button\n",
    "upload_btn = tk.Button(main_frame, text=\"Upload Image\", font=(\"Arial\", 12),command=upload_image)\n",
    "upload_btn.pack(pady=20)\n",
    "\n",
    "# Image preview\n",
    "image_label = tk.Label(main_frame, bg=\"white\", width=300, height=200)\n",
    "image_label.pack(pady=10)\n",
    "\n",
    "# Color box\n",
    "color_box = tk.Label(main_frame, width=20, height=2, bg=\"white\", relief=\"ridge\")\n",
    "color_box.pack(pady=5)\n",
    "\n",
    "\n",
    "# Color label\n",
    "color_label = tk.Label(main_frame, text=\"🎨 Color: None\", font=(\"Arial\", 12), bg=\"#f5f5f5\")\n",
    "color_label.pack(pady=10)\n",
    "\n",
    "# Copy RGB button\n",
    "rgb_button = tk.Button(main_frame, text=\"Copy RGB\", font=(\"Arial\", 12), command=copy_rgb)\n",
    "rgb_button.pack(pady=10)\n",
    "\n",
    "# Copy HEX button\n",
    "hex_button = tk.Button(main_frame, text=\"Copy HEX\", font=(\"Arial\", 12), command=copy_hex)\n",
    "hex_button.pack(pady=10)\n",
    "\n",
    "\n",
    "root.mainloop()"
   ]
  },
  {
   "cell_type": "code",
   "execution_count": null,
   "id": "66b61fd6-9e0d-4384-9693-27735992091e",
   "metadata": {},
   "outputs": [],
   "source": []
  }
 ],
 "metadata": {
  "kernelspec": {
   "display_name": "Python [conda env:base] *",
   "language": "python",
   "name": "conda-base-py"
  },
  "language_info": {
   "codemirror_mode": {
    "name": "ipython",
    "version": 3
   },
   "file_extension": ".py",
   "mimetype": "text/x-python",
   "name": "python",
   "nbconvert_exporter": "python",
   "pygments_lexer": "ipython3",
   "version": "3.12.7"
  }
 },
 "nbformat": 4,
 "nbformat_minor": 5
}
